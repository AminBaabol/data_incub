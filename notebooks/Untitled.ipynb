{
 "cells": [
  {
   "cell_type": "code",
   "execution_count": null,
   "metadata": {},
   "outputs": [],
   "source": [
    "import numpy as np\n",
    "import matplotlib.pyplot as plt\n",
    "from itertools import combinations"
   ]
  },
  {
   "cell_type": "code",
   "execution_count": null,
   "metadata": {},
   "outputs": [],
   "source": [
    "def compute_paths(m, n):\n",
    "    step_perms = np.empty((0, m + n), dtype = float)\n",
    "    for c in combinations(range(m + n), m):\n",
    "        step_perms = np.resize(step_perms, (step_perms.shape[0] + 1, step_perms.shape[1]))\n",
    "        step_perms[step_perms.shape[0] - 1, :] = 0\n",
    "        step_perms[step_perms.shape[0] - 1, c] = 1\n",
    "    \n",
    "    x_pos = step_perms\n",
    "    y_pos = 1 - step_perms.copy()\n",
    "    \n",
    "    for col in reversed(range(step_perms.shape[1])):\n",
    "        x_pos[:, col] = x_pos[:, :col + 1].sum(axis = 1)\n",
    "        y_pos[:, col] = y_pos[:, :col + 1].sum(axis = 1)\n",
    "    \n",
    "    x_pos = np.append(np.zeros((x_pos.shape[0], 1), dtype = float), x_pos, axis = 1)\n",
    "    y_pos = np.append(np.zeros((y_pos.shape[0], 1), dtype = float), y_pos, axis = 1)\n",
    "    \n",
    "    D = abs((x_pos / m) - (y_pos / n)).max(axis = 0)\n",
    "    \n",
    "    return x_pos, y_pos, D"
   ]
  },
  {
   "cell_type": "code",
   "execution_count": null,
   "metadata": {},
   "outputs": [],
   "source": [
    "def cond_prob(D, a, b):\n",
    "    a_inds = (D > a).nonzero()[0]\n",
    "    b_inds = (D > b).nonzero()[0]\n",
    "    ab_inds = np.intersect1d(a_inds, b_inds)\n",
    "    return ab_inds.size / b_inds.size"
   ]
  },
  {
   "cell_type": "code",
   "execution_count": null,
   "metadata": {},
   "outputs": [],
   "source": [
    "m = 11\n",
    "n = 7\n",
    "\n",
    "x_pos, y_pos, D = compute_paths(m, n)"
   ]
  },
  {
   "cell_type": "code",
   "execution_count": null,
   "metadata": {},
   "outputs": [],
   "source": [
    "fig, ax = plt.subplots(figsize = (m, n))\n",
    "ax.set_xlabel(\"x\")\n",
    "ax.set_ylabel(\"y\")\n",
    "ax.set_xticks(np.arange(m + 1))\n",
    "ax.set_yticks(np.arange(n + 1))\n",
    "ax.grid()\n",
    "for row in np.random.choice(range(step_perms.shape[0]), 100, replace = False):\n",
    "    ax.plot(x_pos[row], y_pos[row], color = np.random.rand(3))\n",
    "plt.show()"
   ]
  },
  {
   "cell_type": "code",
   "execution_count": null,
   "metadata": {},
   "outputs": [],
   "source": [
    "print(\"(m, n) = ({}, {})\".format(m, n))\n",
    "print(\"Mean: {}\".format(\"%0.10f\" % D.mean()))\n",
    "print(\"Standard Deviation: {}\".format(\"%0.10f\" % D.std()))\n",
    "print(\"Conditional Probability of {0}, given {1}: {2}\".format(0.6, 0.2, \"%0.10f\" % cond_prob(D, 0.6, 0.2)))"
   ]
  },
  {
   "cell_type": "code",
   "execution_count": null,
   "metadata": {},
   "outputs": [],
   "source": [
    "m = 23\n",
    "n = 31\n",
    "\n",
    "x_pos, y_pos, D = compute_paths(m, n)"
   ]
  },
  {
   "cell_type": "code",
   "execution_count": null,
   "metadata": {},
   "outputs": [],
   "source": [
    "fig, ax = plt.subplots(figsize = (m, n))\n",
    "ax.set_xlabel(\"x\")\n",
    "ax.set_ylabel(\"y\")\n",
    "ax.set_xticks(np.arange(m + 1))\n",
    "ax.set_yticks(np.arange(n + 1))\n",
    "ax.grid()\n",
    "for row in np.random.choice(range(step_perms.shape[0]), 20, replace = False):\n",
    "    ax.plot(x_pos[row], y_pos[row], color = np.random.rand(3))\n",
    "plt.show()"
   ]
  },
  {
   "cell_type": "code",
   "execution_count": null,
   "metadata": {},
   "outputs": [],
   "source": [
    "print(\"(m, n) = ({}, {})\".format(m, n))\n",
    "print(\"Mean: {}\".format(\"%0.10f\" % D.mean()))\n",
    "print(\"Standard Deviation: {}\".format(\"%0.10f\" % D.std()))\n",
    "print(\"Conditional Probability of {0}, given {1}: {2}\".format(0.6, 0.2, \"%0.10f\" % cond_prob(D, 0.6, 0.2)))"
   ]
  },
  {
   "cell_type": "code",
   "execution_count": null,
   "metadata": {},
   "outputs": [],
   "source": []
  }
 ],
 "metadata": {
  "kernelspec": {
   "display_name": "Python 3",
   "language": "python",
   "name": "python3"
  },
  "language_info": {
   "codemirror_mode": {
    "name": "ipython",
    "version": 3
   },
   "file_extension": ".py",
   "mimetype": "text/x-python",
   "name": "python",
   "nbconvert_exporter": "python",
   "pygments_lexer": "ipython3",
   "version": "3.6.4"
  }
 },
 "nbformat": 4,
 "nbformat_minor": 2
}
